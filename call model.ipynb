{
 "cells": [
  {
   "cell_type": "code",
   "execution_count": 5,
   "metadata": {},
   "outputs": [
    {
     "name": "stdout",
     "output_type": "stream",
     "text": [
      "Found 7 images belonging to 3 classes.\n",
      "7\n",
      "0\n",
      "index: 0  actual y: 0  answer y: 2  prediction: [1.4787249e-08 1.5244444e-06 9.9999845e-01]\n",
      "1\n",
      "index: 1  actual y: 2  answer y: 1  prediction: [0.0021258  0.6323127  0.36556152]\n",
      "2\n",
      "index: 2  actual y: 1  answer y: 2  prediction: [2.209869e-04 2.454408e-03 9.973246e-01]\n",
      "3\n",
      "index: 3  actual y: 0  answer y: 2  prediction: [0.06129481 0.00990771 0.9287975 ]\n",
      "4\n",
      "index: 4  actual y: 2  answer y: 1  prediction: [0.08481634 0.8329749  0.08220871]\n",
      "5\n",
      "index: 5  actual y: 1  answer y: 2  prediction: [1.5844642e-05 2.3363480e-02 9.7662067e-01]\n",
      "6\n",
      "index: 6  actual y: 2  answer y: 2  prediction: [0.26377547 0.00220353 0.734021  ]\n"
     ]
    }
   ],
   "source": [
    "from tensorflow.python.keras.utils import np_utils\n",
    "from tensorflow.python.keras.datasets import mnist\n",
    "from tensorflow.python.keras.models import Sequential,load_model\n",
    "from tensorflow.python.keras.layers import Dense, Activation\n",
    "import numpy as np\n",
    "from numpy import argmax,array\n",
    "from keras.preprocessing.image import ImageDataGenerator, array_to_img, img_to_array, load_img\n",
    "\n",
    "# 2. Model 불러오기\n",
    "from tensorflow.python.keras.models import load_model\n",
    "\n",
    "\n",
    "# test_img_dir = r'C:\\Users\\1217s\\Desktop\\capstone deeplearning\\images\\man\\test'\n",
    "# model = load_model('keras_model.h5',compile = False)\n",
    "#categories = ['dog','cat','bear']\n",
    "\n",
    "\n",
    "\n",
    "test_img_dir = r'C:\\Users\\1217s\\Desktop\\capstone deeplearning\\images\\woman\\test'\n",
    "model = load_model('keras_model-1.h5',compile = False)\n",
    "categories = ['dog','cat','rabbit']\n",
    "learning_rate = 0.0001\n",
    "training_epochs = 10\n",
    "batch_size = 64\n",
    "\n",
    "\n",
    "\n",
    "test_datagen = ImageDataGenerator(rescale = 1./255)\n",
    "test_set = test_datagen.flow_from_directory(test_img_dir,\n",
    "                                        target_size=(224,224), \n",
    "                                        classes=categories, \n",
    "                                        batch_size=batch_size)\n",
    "\n",
    "x_test, y_test = next(test_set)\n",
    "\n",
    "size = y_test[:,-1]\n",
    "print(size.size)\n",
    "\n",
    "y_predicted = model.predict(x_test)\n",
    "for x in range(0,size.size):\n",
    "    print(x)\n",
    "    print(\"index:\", x,\n",
    "          \" actual y:\", np.argmax(y_test[x]),\n",
    "          \" answer y:\", np.argmax(y_predicted[x]),\n",
    "            \" prediction:\", np.array(y_predicted[x]))\n"
   ]
  },
  {
   "cell_type": "code",
   "execution_count": null,
   "metadata": {},
   "outputs": [],
   "source": []
  }
 ],
 "metadata": {
  "kernelspec": {
   "display_name": "Python 3",
   "language": "python",
   "name": "python3"
  },
  "language_info": {
   "codemirror_mode": {
    "name": "ipython",
    "version": 3
   },
   "file_extension": ".py",
   "mimetype": "text/x-python",
   "name": "python",
   "nbconvert_exporter": "python",
   "pygments_lexer": "ipython3",
   "version": "3.7.6"
  }
 },
 "nbformat": 4,
 "nbformat_minor": 4
}
