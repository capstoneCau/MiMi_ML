{
 "cells": [
  {
   "cell_type": "code",
   "execution_count": 7,
   "metadata": {},
   "outputs": [
    {
     "name": "stdout",
     "output_type": "stream",
     "text": [
      "로드된 이미지 개수 :  247\n"
     ]
    }
   ],
   "source": [
    "from selenium import webdriver\n",
    "from bs4 import BeautifulSoup as bs\n",
    "import urllib\n",
    "from urllib.request import urlopen\n",
    "from urllib.parse import quote_plus\n",
    "\n",
    "\n",
    "search_term = \"오마이걸 유아\"\n",
    "url = \"https://www.google.com/search?q=\" + search_term+ \"&hl=ko&tbm=isch\"\n",
    "\n",
    "browser = webdriver.Chrome('chromedriver.exe')\n",
    "browser.get(url)\n",
    "\n",
    "for i in range(200):\n",
    "    browser.execute_script('window.scrollBy(0,40000)')\n",
    "\n",
    "\n",
    "images = browser.find_elements_by_tag_name(\"img\")\n",
    "image_count = len(browser.find_elements_by_tag_name(\"img\"))\n",
    "    \n",
    "print(\"로드된 이미지 개수 : \", image_count)\n",
    "\n",
    "for i in range(image_count):\n",
    "    image = browser.find_elements_by_tag_name(\"img\")[i]\n",
    "    if(list(image.size.items())[0][1] > 128 and list(image.size.items())[1][1] > 128):\n",
    "        image.screenshot(r\"C:\\Users\\1217s\\Desktop\\capstone deeplearning\\downloads\" +\"\\\\\"+search_term +str(i) + \".png\")\n",
    "\n",
    "browser.close()"
   ]
  },
  {
   "cell_type": "code",
   "execution_count": null,
   "metadata": {},
   "outputs": [],
   "source": []
  }
 ],
 "metadata": {
  "kernelspec": {
   "display_name": "Python 3",
   "language": "python",
   "name": "python3"
  },
  "language_info": {
   "codemirror_mode": {
    "name": "ipython",
    "version": 3
   },
   "file_extension": ".py",
   "mimetype": "text/x-python",
   "name": "python",
   "nbconvert_exporter": "python",
   "pygments_lexer": "ipython3",
   "version": "3.7.6"
  }
 },
 "nbformat": 4,
 "nbformat_minor": 4
}
