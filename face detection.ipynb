{
 "cells": [
  {
   "cell_type": "code",
   "execution_count": 1,
   "metadata": {},
   "outputs": [],
   "source": [
    "import os\n",
    "from os import listdir\n",
    "from os.path import isfile, join\n",
    "import numpy\n",
    "import cv2\n",
    "mypath=r'C:\\Users\\1217s\\Desktop\\capstone deeplearning\\temp'\n",
    "file_names = os.listdir(mypath)\n",
    "i = 1\n",
    "for name in file_names:\n",
    "    src = os.path.join(mypath, name)\n",
    "    dst = str(i) + '.jpg'\n",
    "    dst = os.path.join(mypath, dst)\n",
    "    os.rename(src, dst)\n",
    "    i += 1"
   ]
  },
  {
   "cell_type": "code",
   "execution_count": 2,
   "metadata": {},
   "outputs": [],
   "source": [
    "onlyfiles = [ f for f in listdir(mypath) if isfile(join(mypath,f)) ]\n",
    "images = numpy.empty(len(onlyfiles), dtype=object)\n",
    "for n in range(0, len(onlyfiles)):\n",
    "  images[n] = cv2.imread( join(mypath,onlyfiles[n]) )"
   ]
  },
  {
   "cell_type": "code",
   "execution_count": 3,
   "metadata": {},
   "outputs": [],
   "source": [
    "face_cascade = cv2.CascadeClassifier(r'C:\\Users\\1217s\\Desktop\\capstone deeplearning\\opencv-master\\opencv-master\\data\\haarcascades/haarcascade_frontalface_default.xml')\n",
    "eye_casecade = cv2.CascadeClassifier(r'C:\\Users\\1217s\\Desktop\\capstone deeplearning\\opencv-master\\opencv-master\\data\\haarcascades/haarcascade_eye.xml')\n",
    "imgNum = 0\n",
    "for n in range(images.size):\n",
    "    try:\n",
    "        img = images[n]\n",
    "        gray = cv2.cvtColor(img, cv2.COLOR_BGR2GRAY)\n",
    "        faces = face_cascade.detectMultiScale(gray, 1.1,3)\n",
    "    except Exception as e:\n",
    "            print(img)\n",
    "            print(str(e))\n",
    "    for (x,y,w,h) in faces:\n",
    "        try:\n",
    "            imgNum = imgNum + 1\n",
    "            cropped = img[y - int(h / 4):y + h + int(h / 4), x - int(w / 4):x + w + int(w / 4)]\n",
    "            # 이미지를 저장\n",
    "            \n",
    "            if(cropped.shape[0] > 128):\n",
    "                cv2.imwrite(\"thumbnail\" + str(imgNum) + \".png\", cropped)\n",
    "                imgNum += 1\n",
    "                \n",
    "        except Exception as e:\n",
    "            print(str(e))\n",
    "\n",
    "#         cv2.rectangle(img, (x,y), (x+w, y+h), (255,0,0),2)\n",
    "#         roi_gray = gray[y:y+h, x:x+w]\n",
    "#         roi_color = img[y:y+h, x:x+w]\n",
    "#         eyes = eye_casecade.detectMultiScale(roi_gray)\n",
    "#         for (ex, ey, ew, eh) in eyes:\n",
    "#             cv2.rectangle(roi_color, (ex,ey), (ex+ew, ey+eh),(0,255,0),2)\n",
    "#         cv2.imshow('Image view', cropped)\n",
    "#         cv2.waitKey(0)\n",
    "#         cv2.destroyAllWindows()\n",
    "#         cv2.imshow('Image view', cropped)\n",
    "#         cv2.waitKey(0)\n",
    "#         cv2.destroyAllWindows()\n"
   ]
  },
  {
   "cell_type": "code",
   "execution_count": null,
   "metadata": {},
   "outputs": [],
   "source": []
  }
 ],
 "metadata": {
  "kernelspec": {
   "display_name": "Python 3",
   "language": "python",
   "name": "python3"
  },
  "language_info": {
   "codemirror_mode": {
    "name": "ipython",
    "version": 3
   },
   "file_extension": ".py",
   "mimetype": "text/x-python",
   "name": "python",
   "nbconvert_exporter": "python",
   "pygments_lexer": "ipython3",
   "version": "3.7.6"
  }
 },
 "nbformat": 4,
 "nbformat_minor": 4
}
